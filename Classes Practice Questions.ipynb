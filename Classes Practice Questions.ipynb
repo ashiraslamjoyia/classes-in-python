{
 "cells": [
  {
   "cell_type": "code",
   "execution_count": 3,
   "id": "55c3e7bf-ff0f-4783-ab98-28bcbd1af141",
   "metadata": {},
   "outputs": [],
   "source": [
    "# QUESTION 1\n",
    "# CLASS PERSON"
   ]
  },
  {
   "cell_type": "code",
   "execution_count": 4,
   "id": "e1c6a1c4-e82a-4f5b-ae55-656d3ba447b9",
   "metadata": {},
   "outputs": [
    {
     "name": "stdout",
     "output_type": "stream",
     "text": [
      "Name: ali\n",
      "Age: 18\n",
      "City: Lahore\n",
      "None\n"
     ]
    }
   ],
   "source": [
    "class Person:\n",
    "    def __init__(self, name, age, city):\n",
    "        self.name = name\n",
    "        self.age = age\n",
    "        self.city = city\n",
    "    def person_info (self):\n",
    "        print(f\"Name: {self.name}\\nAge: {self.age}\\nCity: {self.city}\")\n",
    "my_info=Person('ali',18,'Lahore')\n",
    "print (my_info.person_info())"
   ]
  },
  {
   "cell_type": "code",
   "execution_count": 5,
   "id": "b4f613f7-121a-40a0-a615-d6fc9494c988",
   "metadata": {},
   "outputs": [],
   "source": [
    "# QUESTION 2\n",
    "# CLASS CAR"
   ]
  },
  {
   "cell_type": "code",
   "execution_count": 6,
   "id": "69156ac3-3d6b-420c-af6c-f59cb8695d55",
   "metadata": {},
   "outputs": [
    {
     "name": "stdout",
     "output_type": "stream",
     "text": [
      "Make: BMW\n",
      "Model: Leaf\n",
      "Year: 2019\n",
      "None\n"
     ]
    }
   ],
   "source": [
    "class Car:\n",
    "    def __init__(self, make, model, year):\n",
    "        self.make = make\n",
    "        self.model = model\n",
    "        self.year = year\n",
    "    def car_info (self):\n",
    "        print(f\"Make: {self.make}\\nModel: {self.model}\\nYear: {self.year}\")\n",
    "my_car=Car('BMW', 'Leaf', 2019)\n",
    "print(my_car.car_info())"
   ]
  },
  {
   "cell_type": "code",
   "execution_count": 7,
   "id": "dbd1296e-8a68-44a7-89f5-2d59c4028106",
   "metadata": {},
   "outputs": [],
   "source": [
    "# QUESTION 3\n",
    "# CLASS CIRCLE"
   ]
  },
  {
   "cell_type": "code",
   "execution_count": 8,
   "id": "892848ad-b721-4652-a59d-77a7c6d5edbe",
   "metadata": {},
   "outputs": [
    {
     "name": "stdout",
     "output_type": "stream",
     "text": [
      "Radius: 15\n",
      "Area: 706.5\n",
      "Circumference: 94.2\n"
     ]
    }
   ],
   "source": [
    "class Circle:\n",
    "    def __init__(self, radius):\n",
    "        self.radius=radius\n",
    "    def area (self):\n",
    "        return 3.14*(self.radius**2)\n",
    "    def circumference (self):\n",
    "        return 2*3.14*self.radius\n",
    "given_circle=Circle(15)\n",
    "print(f\"Radius: {given_circle.radius}\\nArea: {given_circle.area()}\\nCircumference: {given_circle.circumference()}\")"
   ]
  },
  {
   "cell_type": "code",
   "execution_count": 9,
   "id": "a23e8450-1e4c-4e60-99b6-3d94fdef2a2d",
   "metadata": {},
   "outputs": [],
   "source": [
    "# QUESTION 4\n",
    "# CLASS RECTANGLE"
   ]
  },
  {
   "cell_type": "code",
   "execution_count": 10,
   "id": "3a703979-fddc-400b-b4da-c9dd04a68a02",
   "metadata": {},
   "outputs": [
    {
     "name": "stdout",
     "output_type": "stream",
     "text": [
      "Length: 10\n",
      "Width: 15\n",
      "Area: 150\n",
      "Perimeter: 50\n"
     ]
    }
   ],
   "source": [
    "class Rectangle:\n",
    "    def __init__(self, length, width):\n",
    "        self.length = length\n",
    "        self.width = width\n",
    "    def area (self):\n",
    "        return self.width*self.length\n",
    "    def perimeter (self):\n",
    "        return 2*(self.length+self.width)\n",
    "given_rectangle=Rectangle(10,15)\n",
    "print(f\"Length: {given_rectangle.length}\\nWidth: {given_rectangle.width}\\nArea: {given_rectangle.area()}\\nPerimeter: {given_rectangle.perimeter()}\")"
   ]
  },
  {
   "cell_type": "code",
   "execution_count": 11,
   "id": "de211d12-dcaa-4647-aef9-2b43d44a4816",
   "metadata": {},
   "outputs": [],
   "source": [
    "# QUESTION 5\n",
    "# CLASS STUDENT"
   ]
  },
  {
   "cell_type": "code",
   "execution_count": 12,
   "id": "e759a20f-d8b9-4019-bdf5-035434b3159f",
   "metadata": {},
   "outputs": [
    {
     "name": "stdout",
     "output_type": "stream",
     "text": [
      "Name: Zoha\n",
      "Roll No: 91\n",
      "Average Marks: 26.8\n"
     ]
    }
   ],
   "source": [
    "class Student:\n",
    "    def __init__(self, name, roll_number, marks):\n",
    "        self.name = name\n",
    "        self.roll_number = roll_number\n",
    "        self.marks = marks\n",
    "    def average_marks (self):\n",
    "        return sum(self.marks)/len(self.marks)\n",
    "student_info = Student('Zoha', 91, [25,40,29,20,20])\n",
    "print(f\"Name: {student_info.name}\\nRoll No: {student_info.roll_number}\\nAverage Marks: {student_info.average_marks()}\")"
   ]
  },
  {
   "cell_type": "code",
   "execution_count": 13,
   "id": "6c52f6df-cd97-46f6-856d-4de471c13cb9",
   "metadata": {},
   "outputs": [],
   "source": [
    "# QUESTION 6\n",
    "# CLASS BOOK"
   ]
  },
  {
   "cell_type": "code",
   "execution_count": 14,
   "id": "fc2fb6fa-ec73-48ed-95be-b50de2a7e2ee",
   "metadata": {},
   "outputs": [
    {
     "name": "stdout",
     "output_type": "stream",
     "text": [
      "Title: Namal\n",
      "Author: Nimra Ahmad\n",
      "Publication Year: 2016\n",
      "None\n"
     ]
    }
   ],
   "source": [
    "class Book:\n",
    "    def __init__ (self, title, author, publication_year):\n",
    "        self.title = title\n",
    "        self.author = author\n",
    "        self.publication_year = publication_year\n",
    "    def book_info (self):\n",
    "        print(f\"Title: {self.title}\\nAuthor: {self.author}\\nPublication Year: {self.publication_year}\")\n",
    "my_book = Book('Namal', 'Nimra Ahmad', 2016)\n",
    "print(my_book.book_info())"
   ]
  },
  {
   "cell_type": "code",
   "execution_count": 15,
   "id": "61784503-6ef2-4a57-a140-9e29c3b63eb1",
   "metadata": {},
   "outputs": [],
   "source": [
    "# QUESTION 7\n",
    "# CLASS EMPLOYEE"
   ]
  },
  {
   "cell_type": "code",
   "execution_count": 16,
   "id": "7c0f1cbd-0044-4775-b06e-4e4c148bd93e",
   "metadata": {},
   "outputs": [
    {
     "name": "stdout",
     "output_type": "stream",
     "text": [
      "Name: Hassaan\n",
      "Salary: 4000000\n",
      "Designation: Senior Doctor\n",
      "None\n"
     ]
    }
   ],
   "source": [
    "class Employee:\n",
    "    def __init__(self, name, salary, designation):\n",
    "        self.name = name\n",
    "        self.salary = salary\n",
    "        self.designation = designation\n",
    "    def employee_info (self):\n",
    "        print(f\"Name: {self.name}\\nSalary: {self.salary}\\nDesignation: {self.designation}\")\n",
    "employee_1 = Employee('Hassaan', 4_000_000, 'Senior Doctor')\n",
    "print(employee_1.employee_info())"
   ]
  },
  {
   "cell_type": "code",
   "execution_count": 17,
   "id": "69773fa5-1963-4743-845b-b6be91a865ac",
   "metadata": {},
   "outputs": [],
   "source": [
    "# QUESTION 8\n",
    "# CLASS BANK"
   ]
  },
  {
   "cell_type": "code",
   "execution_count": 18,
   "id": "c5da3e42-92f3-41ac-9b22-3c3404ced355",
   "metadata": {},
   "outputs": [
    {
     "name": "stdout",
     "output_type": "stream",
     "text": [
      "Name: ali\n",
      "Account Number: 3464576755\n",
      "Balance: 5000000\n",
      "Amount Deposited: 1000, New Balance: 5001000\n",
      "Amount Withdrawn: 2000, New Balance: 4999000\n"
     ]
    }
   ],
   "source": [
    "class Bank:\n",
    "    def __init__(self, name, account_number, balance):\n",
    "        self.name = name\n",
    "        self.account_number = account_number\n",
    "        self.balance = balance\n",
    "        \n",
    "    def deposit (self, amount):\n",
    "        self.balance += amount\n",
    "        print(f\"Amount Deposited: {amount}, New Balance: {self.balance}\")\n",
    "        \n",
    "    def withdraw (self, amount):\n",
    "        if self.balance >= amount:\n",
    "            self.balance -= amount\n",
    "            print(f\"Amount Withdrawn: {amount}, New Balance: {self.balance}\")\n",
    "        else:\n",
    "            print('Insufficient funds.')\n",
    "            \n",
    "    def get_balance (self):\n",
    "        return self.balance\n",
    "        \n",
    "user_info = Bank('ali', 3464576755, 5_000_000)\n",
    "print(f\"Name: {user_info.name}\\nAccount Number: {user_info.account_number}\\nBalance: {user_info.balance}\")\n",
    "user_info.deposit(1000)\n",
    "user_info.withdraw(2000)"
   ]
  },
  {
   "cell_type": "code",
   "execution_count": null,
   "id": "c6a6cead",
   "metadata": {},
   "outputs": [],
   "source": []
  }
 ],
 "metadata": {
  "kernelspec": {
   "display_name": "base",
   "language": "python",
   "name": "python3"
  },
  "language_info": {
   "codemirror_mode": {
    "name": "ipython",
    "version": 3
   },
   "file_extension": ".py",
   "mimetype": "text/x-python",
   "name": "python",
   "nbconvert_exporter": "python",
   "pygments_lexer": "ipython3",
   "version": "3.12.4"
  }
 },
 "nbformat": 4,
 "nbformat_minor": 5
}
